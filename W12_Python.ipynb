{
  "nbformat": 4,
  "nbformat_minor": 0,
  "metadata": {
    "colab": {
      "name": "W12 Python",
      "provenance": [],
      "authorship_tag": "ABX9TyNlvp/QcOa13Ytu5PhXTVKn",
      "include_colab_link": true
    },
    "kernelspec": {
      "name": "python3",
      "display_name": "Python 3"
    }
  },
  "cells": [
    {
      "cell_type": "markdown",
      "metadata": {
        "id": "view-in-github",
        "colab_type": "text"
      },
      "source": [
        "<a href=\"https://colab.research.google.com/github/fzoryf/Python/blob/master/W12_Python.ipynb\" target=\"_parent\"><img src=\"https://colab.research.google.com/assets/colab-badge.svg\" alt=\"Open In Colab\"/></a>"
      ]
    },
    {
      "cell_type": "code",
      "metadata": {
        "id": "iVr3tX2SH7S0",
        "outputId": "c65b4ff5-e39d-46a0-88ae-a95c914e093a",
        "colab": {
          "base_uri": "https://localhost:8080/"
        }
      },
      "source": [
        "#1\n",
        "\n",
        "import pandas\n",
        "\n",
        "file_name = \"https://raw.githubusercontent.com/mlepinski/Python-Worksheets/master/states.csv\"\n",
        "state_data = pandas.read_csv(file_name)\n",
        "\n",
        "median_pop = state_data[\"Pop\"].median()\n",
        "\n",
        "median_pop_row = state_data[ state_data[\"Pop\"]== median_pop]\n",
        "\n",
        "print(median_pop_row)\n"
      ],
      "execution_count": 2,
      "outputs": [
        {
          "output_type": "stream",
          "text": [
            "       Name State    Area      Pop\n",
            "5  Colorado    CO  104100  3294394\n"
          ],
          "name": "stdout"
        }
      ]
    },
    {
      "cell_type": "code",
      "metadata": {
        "id": "QNJBifQEFmUH",
        "outputId": "52f2b4d3-61ed-4c19-be0b-1e00114dece8",
        "colab": {
          "base_uri": "https://localhost:8080/"
        }
      },
      "source": [
        "#2\n",
        "\n",
        "import pandas\n",
        "\n",
        "file_name = \"https://raw.githubusercontent.com/mlepinski/Python-Worksheets/master/states.csv\"\n",
        "state_data = pandas.read_csv(file_name)\n",
        "\n",
        "Mstates = 0 \n",
        "for name in state_data[\"Name\"]:\n",
        "  if name[0] == \"M\":\n",
        "    Mstates = Mstates + 1\n",
        "\n",
        "print(Mstates)"
      ],
      "execution_count": 7,
      "outputs": [
        {
          "output_type": "stream",
          "text": [
            "8\n"
          ],
          "name": "stdout"
        }
      ]
    },
    {
      "cell_type": "code",
      "metadata": {
        "id": "cdNWss-NFmg7",
        "outputId": "6a972a39-0eaa-42e9-d86f-03ab9fbee4db",
        "colab": {
          "base_uri": "https://localhost:8080/",
          "height": 204
        }
      },
      "source": [
        "#3\n",
        "\n",
        "import pandas\n",
        "\n",
        "file_name = \"https://raw.githubusercontent.com/mlepinski/Python-Worksheets/master/states.csv\"\n",
        "state_data = pandas.read_csv(file_name)\n",
        "\n",
        "state_data['Population Density'] = state_data['Pop']/ state_data['Area']\n",
        "\n",
        "state_data.head()\n",
        "\n"
      ],
      "execution_count": 11,
      "outputs": [
        {
          "output_type": "execute_result",
          "data": {
            "text/html": [
              "<div>\n",
              "<style scoped>\n",
              "    .dataframe tbody tr th:only-of-type {\n",
              "        vertical-align: middle;\n",
              "    }\n",
              "\n",
              "    .dataframe tbody tr th {\n",
              "        vertical-align: top;\n",
              "    }\n",
              "\n",
              "    .dataframe thead th {\n",
              "        text-align: right;\n",
              "    }\n",
              "</style>\n",
              "<table border=\"1\" class=\"dataframe\">\n",
              "  <thead>\n",
              "    <tr style=\"text-align: right;\">\n",
              "      <th></th>\n",
              "      <th>Name</th>\n",
              "      <th>State</th>\n",
              "      <th>Area</th>\n",
              "      <th>Pop</th>\n",
              "      <th>Population Density</th>\n",
              "    </tr>\n",
              "  </thead>\n",
              "  <tbody>\n",
              "    <tr>\n",
              "      <th>0</th>\n",
              "      <td>Alabama</td>\n",
              "      <td>AL</td>\n",
              "      <td>52423</td>\n",
              "      <td>4040587</td>\n",
              "      <td>77.076608</td>\n",
              "    </tr>\n",
              "    <tr>\n",
              "      <th>1</th>\n",
              "      <td>Alaska</td>\n",
              "      <td>AK</td>\n",
              "      <td>656424</td>\n",
              "      <td>550043</td>\n",
              "      <td>0.837939</td>\n",
              "    </tr>\n",
              "    <tr>\n",
              "      <th>2</th>\n",
              "      <td>Arizona</td>\n",
              "      <td>AZ</td>\n",
              "      <td>114006</td>\n",
              "      <td>3665228</td>\n",
              "      <td>32.149431</td>\n",
              "    </tr>\n",
              "    <tr>\n",
              "      <th>3</th>\n",
              "      <td>Arkansas</td>\n",
              "      <td>AR</td>\n",
              "      <td>53182</td>\n",
              "      <td>2350725</td>\n",
              "      <td>44.201516</td>\n",
              "    </tr>\n",
              "    <tr>\n",
              "      <th>4</th>\n",
              "      <td>California</td>\n",
              "      <td>CA</td>\n",
              "      <td>163707</td>\n",
              "      <td>29769021</td>\n",
              "      <td>181.843299</td>\n",
              "    </tr>\n",
              "  </tbody>\n",
              "</table>\n",
              "</div>"
            ],
            "text/plain": [
              "         Name State    Area       Pop  Population Density\n",
              "0     Alabama    AL   52423   4040587           77.076608\n",
              "1      Alaska    AK  656424    550043            0.837939\n",
              "2     Arizona    AZ  114006   3665228           32.149431\n",
              "3    Arkansas    AR   53182   2350725           44.201516\n",
              "4  California    CA  163707  29769021          181.843299"
            ]
          },
          "metadata": {
            "tags": []
          },
          "execution_count": 11
        }
      ]
    },
    {
      "cell_type": "code",
      "metadata": {
        "id": "9l5dqkJUFms_",
        "outputId": "1ae78427-b01e-4263-df63-7c29c2572334",
        "colab": {
          "base_uri": "https://localhost:8080/"
        }
      },
      "source": [
        "#4\n",
        "import pandas\n",
        "def densityFinder(x) : \n",
        "  file_name = \"https://raw.githubusercontent.com/mlepinski/Python-Worksheets/master/states.csv\"\n",
        "  state_data = pandas.read_csv(file_name)\n",
        "\n",
        "  state_data['Population Density'] = state_data['Pop']/ state_data['Area']\n",
        "\n",
        "\n",
        "  if x == 'MIN' :\n",
        "    pop_min = state_data['Population Density'].min()\n",
        "    min_state = state_data[state_data['Population Density'] == pop_min]\n",
        "    print (\"The state with the smallest population density is :\", min_state, \"\\n with a population density of:\" , pop_min)\n",
        "\n",
        "  if x == 'MAX' :\n",
        "    pop_max = state_data['Population Density'].max()\n",
        "    max_state = state_data[state_data['Population Density'] == pop_max]\n",
        "    print (\"The state with the largest population density is :\", max_state, \"\\n with a population density of:\" , pop_max)\n",
        "\n",
        "  if x == 'MID' :\n",
        "    pop_mid = state_data['Population Density'].median() \n",
        "    mid_state = state_data[state_data['Population Density'] == pop_mid]\n",
        "    print (\"The state with the median population density is :\", mid_state, \"\\n with a population density of:\" , pop_mid)\n",
        "\n",
        "  if not x == 'MID' and not x =='MAX' and not x =='MIN' :\n",
        "    print ('Follow instructions! I just wanna tell you about population density!!')\n",
        "\n",
        "answer = input (' Would you like to know about population density?\\n Type MAX, for the state with the highest population density\\n MIN for the state with the lowest population density\\n MID for the median population density ')\n",
        "\n",
        "densityFinder(answer)\n"
      ],
      "execution_count": 46,
      "outputs": [
        {
          "output_type": "stream",
          "text": [
            " Would you like to know about population density?\n",
            " Type MAX, for the state with the highest population density\n",
            " MIN for the state with the lowest population density\n",
            " MID for the median population density MAX\n",
            "The state with the largest population density is :                    Name State  Area     Pop  Population Density\n",
            "8  District of Columbia    DC    68  606900              8925.0 \n",
            " with a population density of: 8925.0\n"
          ],
          "name": "stdout"
        }
      ]
    },
    {
      "cell_type": "code",
      "metadata": {
        "id": "OPYY4l06FnEZ"
      },
      "source": [
        ""
      ],
      "execution_count": null,
      "outputs": []
    }
  ]
}