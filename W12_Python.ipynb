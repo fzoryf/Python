{
  "nbformat": 4,
  "nbformat_minor": 0,
  "metadata": {
    "colab": {
      "name": "W12 Python",
      "provenance": [],
      "authorship_tag": "ABX9TyMF8E/HyXr3nZybNRJrQjSh",
      "include_colab_link": true
    },
    "kernelspec": {
      "name": "python3",
      "display_name": "Python 3"
    }
  },
  "cells": [
    {
      "cell_type": "markdown",
      "metadata": {
        "id": "view-in-github",
        "colab_type": "text"
      },
      "source": [
        "<a href=\"https://colab.research.google.com/github/fzoryf/Python/blob/master/W12_Python.ipynb\" target=\"_parent\"><img src=\"https://colab.research.google.com/assets/colab-badge.svg\" alt=\"Open In Colab\"/></a>"
      ]
    },
    {
      "cell_type": "code",
      "metadata": {
        "id": "iVr3tX2SH7S0",
        "outputId": "c65b4ff5-e39d-46a0-88ae-a95c914e093a",
        "colab": {
          "base_uri": "https://localhost:8080/"
        }
      },
      "source": [
        "#1\n",
        "\n",
        "import pandas\n",
        "\n",
        "file_name = \"https://raw.githubusercontent.com/mlepinski/Python-Worksheets/master/states.csv\"\n",
        "state_data = pandas.read_csv(file_name)\n",
        "\n",
        "median_pop = state_data[\"Pop\"].median()\n",
        "\n",
        "median_pop_row = state_data[ state_data[\"Pop\"]== median_pop]\n",
        "\n",
        "print(median_pop_row)\n"
      ],
      "execution_count": 2,
      "outputs": [
        {
          "output_type": "stream",
          "text": [
            "       Name State    Area      Pop\n",
            "5  Colorado    CO  104100  3294394\n"
          ],
          "name": "stdout"
        }
      ]
    },
    {
      "cell_type": "code",
      "metadata": {
        "id": "QNJBifQEFmUH",
        "outputId": "52f2b4d3-61ed-4c19-be0b-1e00114dece8",
        "colab": {
          "base_uri": "https://localhost:8080/"
        }
      },
      "source": [
        "#2\n",
        "\n",
        "import pandas\n",
        "\n",
        "file_name = \"https://raw.githubusercontent.com/mlepinski/Python-Worksheets/master/states.csv\"\n",
        "state_data = pandas.read_csv(file_name)\n",
        "\n",
        "Mstates = 0 \n",
        "for name in state_data[\"Name\"]:\n",
        "  if name[0] == \"M\":\n",
        "    Mstates = Mstates + 1\n",
        "\n",
        "print(Mstates)"
      ],
      "execution_count": 7,
      "outputs": [
        {
          "output_type": "stream",
          "text": [
            "8\n"
          ],
          "name": "stdout"
        }
      ]
    },
    {
      "cell_type": "code",
      "metadata": {
        "id": "cdNWss-NFmg7"
      },
      "source": [
        "#3\n",
        "\n",
        "import pandas\n",
        "\n",
        "file_name = \"https://raw.githubusercontent.com/mlepinski/Python-Worksheets/master/states.csv\"\n",
        "state_data = pandas.read_csv(file_name)\n",
        "\n"
      ],
      "execution_count": null,
      "outputs": []
    },
    {
      "cell_type": "code",
      "metadata": {
        "id": "9l5dqkJUFms_"
      },
      "source": [
        "#4\n",
        "\n"
      ],
      "execution_count": null,
      "outputs": []
    },
    {
      "cell_type": "code",
      "metadata": {
        "id": "OPYY4l06FnEZ"
      },
      "source": [
        ""
      ],
      "execution_count": null,
      "outputs": []
    }
  ]
}